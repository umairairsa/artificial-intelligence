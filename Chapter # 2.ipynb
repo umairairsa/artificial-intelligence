{
 "cells": [
  {
   "cell_type": "code",
   "execution_count": 2,
   "id": "8e9e272d",
   "metadata": {},
   "outputs": [
    {
     "name": "stdout",
     "output_type": "stream",
     "text": [
      "437.5\n"
     ]
    }
   ],
   "source": [
    "x1q3z9ocd = 35.0 \n",
    "x1q3z9afd = 12.50\n",
    "x1q3p9afd = x1q3z9ocd * x1q3z9afd\n",
    "print(x1q3p9afd)"
   ]
  },
  {
   "cell_type": "code",
   "execution_count": 3,
   "id": "ae7098a0",
   "metadata": {},
   "outputs": [
    {
     "name": "stdout",
     "output_type": "stream",
     "text": [
      "4\n"
     ]
    }
   ],
   "source": [
    "x = 2\n",
    "x = x + 2\n",
    "print(x)"
   ]
  },
  {
   "cell_type": "code",
   "execution_count": 4,
   "id": "37e8ec9f",
   "metadata": {},
   "outputs": [
    {
     "name": "stdout",
     "output_type": "stream",
     "text": [
      "4\n"
     ]
    },
    {
     "data": {
      "text/plain": [
       "4"
      ]
     },
     "execution_count": 4,
     "metadata": {},
     "output_type": "execute_result"
    }
   ],
   "source": [
    "xx = 2\n",
    ">>> xx = xx + 2\n",
    ">>> print(xx)\n",
    "4"
   ]
  },
  {
   "cell_type": "code",
   "execution_count": 5,
   "id": "01cc2926",
   "metadata": {},
   "outputs": [
    {
     "name": "stdout",
     "output_type": "stream",
     "text": [
      "3\n"
     ]
    },
    {
     "data": {
      "text/plain": [
       "3"
      ]
     },
     "execution_count": 5,
     "metadata": {},
     "output_type": "execute_result"
    }
   ],
   "source": [
    ">>> jj = 23\n",
    ">>> kk = jj % 5\n",
    ">>> print(kk)\n",
    "3"
   ]
  },
  {
   "cell_type": "code",
   "execution_count": 6,
   "id": "7bde4cd6",
   "metadata": {},
   "outputs": [
    {
     "name": "stdout",
     "output_type": "stream",
     "text": [
      "5280\n"
     ]
    }
   ],
   "source": [
    ">>> yy = 440 * 12\n",
    ">>> print(yy)"
   ]
  },
  {
   "cell_type": "code",
   "execution_count": 7,
   "id": "0841d943",
   "metadata": {},
   "outputs": [
    {
     "name": "stdout",
     "output_type": "stream",
     "text": [
      "5.28\n"
     ]
    },
    {
     "data": {
      "text/plain": [
       "5.28"
      ]
     },
     "execution_count": 7,
     "metadata": {},
     "output_type": "execute_result"
    }
   ],
   "source": [
    ">>> zz = yy / 1000\n",
    ">>> print(zz)\n",
    "5.28"
   ]
  },
  {
   "cell_type": "code",
   "execution_count": 8,
   "id": "57fd0261",
   "metadata": {},
   "outputs": [
    {
     "name": "stdout",
     "output_type": "stream",
     "text": [
      "11.0\n"
     ]
    },
    {
     "data": {
      "text/plain": [
       "11.0"
      ]
     },
     "execution_count": 8,
     "metadata": {},
     "output_type": "execute_result"
    }
   ],
   "source": [
    ">>> x = 1 + 2 ** 3 / 4 * 5\n",
    ">>> print(x)\n",
    "11.0"
   ]
  },
  {
   "cell_type": "code",
   "execution_count": 9,
   "id": "9b810e06",
   "metadata": {},
   "outputs": [
    {
     "name": "stdout",
     "output_type": "stream",
     "text": [
      "199.0\n"
     ]
    }
   ],
   "source": [
    ">>> print(float(99) + 100)"
   ]
  },
  {
   "cell_type": "code",
   "execution_count": 12,
   "id": "329edebd",
   "metadata": {},
   "outputs": [
    {
     "name": "stdout",
     "output_type": "stream",
     "text": [
      "5.0\n"
     ]
    }
   ],
   "source": [
    ">>> print(10 / 2)"
   ]
  },
  {
   "cell_type": "code",
   "execution_count": 13,
   "id": "a9f8c1cb",
   "metadata": {},
   "outputs": [
    {
     "name": "stdout",
     "output_type": "stream",
     "text": [
      "4.5\n"
     ]
    }
   ],
   "source": [
    ">>> print(9 / 2)"
   ]
  },
  {
   "cell_type": "code",
   "execution_count": 14,
   "id": "487fc199",
   "metadata": {},
   "outputs": [
    {
     "name": "stdout",
     "output_type": "stream",
     "text": [
      "0.99\n"
     ]
    }
   ],
   "source": [
    ">>> print(99 / 100)"
   ]
  },
  {
   "cell_type": "code",
   "execution_count": 15,
   "id": "fe61cff2",
   "metadata": {},
   "outputs": [
    {
     "name": "stdout",
     "output_type": "stream",
     "text": [
      "5.0\n"
     ]
    }
   ],
   "source": [
    ">>> print(10.0 / 2.0)"
   ]
  },
  {
   "cell_type": "code",
   "execution_count": 16,
   "id": "498c98ff",
   "metadata": {},
   "outputs": [
    {
     "name": "stdout",
     "output_type": "stream",
     "text": [
      "0.99\n"
     ]
    }
   ],
   "source": [
    ">>> print(99.0 / 100.0)"
   ]
  },
  {
   "cell_type": "code",
   "execution_count": null,
   "id": "3e8da66b",
   "metadata": {},
   "outputs": [],
   "source": [
    "nam = input('Who are you? ')\n",
    "print('Welcome', nam)"
   ]
  },
  {
   "cell_type": "code",
   "execution_count": null,
   "id": "04d676ff",
   "metadata": {},
   "outputs": [],
   "source": [
    "inp = input('Europe floor?')\n",
    "usf = int(inp) + 1\n",
    "print('US floor', usf)"
   ]
  },
  {
   "cell_type": "code",
   "execution_count": null,
   "id": "aa514f06",
   "metadata": {},
   "outputs": [],
   "source": []
  }
 ],
 "metadata": {
  "kernelspec": {
   "display_name": "Python 3 (ipykernel)",
   "language": "python",
   "name": "python3"
  },
  "language_info": {
   "codemirror_mode": {
    "name": "ipython",
    "version": 3
   },
   "file_extension": ".py",
   "mimetype": "text/x-python",
   "name": "python",
   "nbconvert_exporter": "python",
   "pygments_lexer": "ipython3",
   "version": "3.11.4"
  }
 },
 "nbformat": 4,
 "nbformat_minor": 5
}
