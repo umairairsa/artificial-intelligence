{
 "cells": [
  {
   "cell_type": "code",
   "execution_count": 1,
   "id": "2f81d370",
   "metadata": {},
   "outputs": [
    {
     "name": "stdout",
     "output_type": "stream",
     "text": [
      "Hellothere\n"
     ]
    }
   ],
   "source": [
    ">>> str1 = \"Hello\"\n",
    ">>> str2 = 'there'\n",
    ">>> bob = str1 + str2\n",
    ">>> print(bob)"
   ]
  },
  {
   "cell_type": "code",
   "execution_count": 2,
   "id": "4d0d2d0d",
   "metadata": {},
   "outputs": [
    {
     "ename": "NameError",
     "evalue": "name 'str3' is not defined",
     "output_type": "error",
     "traceback": [
      "\u001b[1;31m---------------------------------------------------------------------------\u001b[0m",
      "\u001b[1;31mNameError\u001b[0m                                 Traceback (most recent call last)",
      "Cell \u001b[1;32mIn[2], line 1\u001b[0m\n\u001b[1;32m----> 1\u001b[0m x \u001b[38;5;241m=\u001b[39m \u001b[38;5;28mint\u001b[39m(str3) \u001b[38;5;241m+\u001b[39m \u001b[38;5;241m1\u001b[39m\n\u001b[0;32m      2\u001b[0m \u001b[38;5;28mprint\u001b[39m(x)\n\u001b[0;32m      3\u001b[0m \u001b[38;5;241m124\u001b[39m\n",
      "\u001b[1;31mNameError\u001b[0m: name 'str3' is not defined"
     ]
    }
   ],
   "source": [
    ">>> x = int(str3) + 1\n",
    ">>> print(x)\n",
    "124\n",
    ">>> \n"
   ]
  },
  {
   "cell_type": "code",
   "execution_count": null,
   "id": "fa51f8f0",
   "metadata": {},
   "outputs": [],
   "source": [
    ">>> name = input('Enter:')\n",
    "Enter:Chuck\n",
    ">>> print(name)"
   ]
  },
  {
   "cell_type": "code",
   "execution_count": null,
   "id": "2b93d821",
   "metadata": {},
   "outputs": [],
   "source": [
    ">>> x = int(apple) – 10\n",
    ">>> print(x)"
   ]
  },
  {
   "cell_type": "code",
   "execution_count": null,
   "id": "dbad17a4",
   "metadata": {},
   "outputs": [],
   "source": [
    ">>> zot =\n",
    "'abc'\n",
    ">>> print(zot[5])"
   ]
  },
  {
   "cell_type": "code",
   "execution_count": null,
   "id": "e2fbd657",
   "metadata": {},
   "outputs": [],
   "source": [
    ">>> fruit = 'banana'\n",
    ">>> x = len(fruit)\n",
    ">>> print(x)"
   ]
  },
  {
   "cell_type": "code",
   "execution_count": null,
   "id": "4bd46662",
   "metadata": {},
   "outputs": [],
   "source": [
    ">>> s = 'Monty Python'\n",
    ">>> print(s[:2])"
   ]
  },
  {
   "cell_type": "code",
   "execution_count": null,
   "id": "1b7c4e74",
   "metadata": {},
   "outputs": [],
   "source": [
    ">>> print(s[8:])\n",
    "thon"
   ]
  },
  {
   "cell_type": "code",
   "execution_count": null,
   "id": "88bddbf6",
   "metadata": {},
   "outputs": [],
   "source": [
    ">>> a = 'Hello'\n",
    ">>> b = a + 'There'\n",
    ">>> print(b)"
   ]
  },
  {
   "cell_type": "code",
   "execution_count": null,
   "id": "f0a392d0",
   "metadata": {},
   "outputs": [],
   "source": [
    ">>> fruit = 'banana'\n",
    ">>> 'n' in fruit"
   ]
  },
  {
   "cell_type": "code",
   "execution_count": null,
   "id": "643405ba",
   "metadata": {},
   "outputs": [],
   "source": [
    "if word == 'banana':\n",
    "print('All right, bananas.')\n",
    "if word < 'banana':\n",
    "print('Your word,' + word + ', comes before banana.')\n",
    "elif word > 'banana':\n",
    "print('Your word,' + word + ', comes after banana.')\n",
    "else:\n",
    "print('All right, bananas.')\n"
   ]
  },
  {
   "cell_type": "code",
   "execution_count": null,
   "id": "2cb14a0d",
   "metadata": {},
   "outputs": [],
   "source": [
    ">>> greet = 'Hello Bob'\n",
    ">>> zap = greet.lower()\n",
    ">>> print(zap)\n",
    "hello bob\n",
    ">>> print(greet)\n",
    "Hello Bob\n",
    ">>> print('Hi There'.lower())\n",
    "hi there\n",
    ">>>\n"
   ]
  },
  {
   "cell_type": "code",
   "execution_count": null,
   "id": "0c9c45aa",
   "metadata": {},
   "outputs": [],
   "source": [
    ">>> line = 'Please have a nice day'\n",
    ">>> line.startswith('Please')\n",
    "True\n",
    ">>> line.startswith('p')\n"
   ]
  },
  {
   "cell_type": "code",
   "execution_count": null,
   "id": "0512a918",
   "metadata": {},
   "outputs": [],
   "source": [
    ">>> data = 'From stephen.marquard@uct.ac.za Sat Jan 5 09:14:16 2008'\n",
    ">>> atpos = data.find('@')\n",
    ">>> print(atpos)\n",
    "21\n",
    ">>> sppos = data.find(' ',atpos)\n",
    ">>> print(sppos)\n",
    "31\n",
    ">>> host = data[atpos+1 : sppos]\n",
    ">>> print(host)\n",
    "uct.ac.za"
   ]
  },
  {
   "cell_type": "code",
   "execution_count": null,
   "id": "d8e1870d",
   "metadata": {},
   "outputs": [],
   "source": []
  }
 ],
 "metadata": {
  "kernelspec": {
   "display_name": "Python 3 (ipykernel)",
   "language": "python",
   "name": "python3"
  },
  "language_info": {
   "codemirror_mode": {
    "name": "ipython",
    "version": 3
   },
   "file_extension": ".py",
   "mimetype": "text/x-python",
   "name": "python",
   "nbconvert_exporter": "python",
   "pygments_lexer": "ipython3",
   "version": "3.11.4"
  }
 },
 "nbformat": 4,
 "nbformat_minor": 5
}
