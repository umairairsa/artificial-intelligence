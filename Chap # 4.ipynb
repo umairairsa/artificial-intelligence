{
 "cells": [
  {
   "cell_type": "code",
   "execution_count": 1,
   "id": "aa702022",
   "metadata": {},
   "outputs": [
    {
     "ename": "IndentationError",
     "evalue": "expected an indented block after function definition on line 1 (1454701741.py, line 2)",
     "output_type": "error",
     "traceback": [
      "\u001b[1;36m  Cell \u001b[1;32mIn[1], line 2\u001b[1;36m\u001b[0m\n\u001b[1;33m    print('Hello')\u001b[0m\n\u001b[1;37m    ^\u001b[0m\n\u001b[1;31mIndentationError\u001b[0m\u001b[1;31m:\u001b[0m expected an indented block after function definition on line 1\n"
     ]
    }
   ],
   "source": [
    "def thing():\n",
    "print('Hello')\n",
    "print('Fun')\n",
    "thing()\n",
    "print('Zip')\n",
    "thing()"
   ]
  },
  {
   "cell_type": "code",
   "execution_count": 2,
   "id": "8c58b54e",
   "metadata": {},
   "outputs": [
    {
     "name": "stdout",
     "output_type": "stream",
     "text": [
      "w\n"
     ]
    }
   ],
   "source": [
    ">>> big = max('Hello world')\n",
    ">>> print(big)"
   ]
  },
  {
   "cell_type": "code",
   "execution_count": 3,
   "id": "3c5a61a3",
   "metadata": {},
   "outputs": [
    {
     "name": "stdout",
     "output_type": "stream",
     "text": [
      " \n"
     ]
    }
   ],
   "source": [
    ">>> tiny = min('Hello world')\n",
    ">>> print(tiny)"
   ]
  },
  {
   "cell_type": "code",
   "execution_count": 4,
   "id": "456cf6e4",
   "metadata": {},
   "outputs": [
    {
     "name": "stdout",
     "output_type": "stream",
     "text": [
      "w\n"
     ]
    }
   ],
   "source": [
    ">>> big = max('Hello world')\n",
    ">>> print(big)"
   ]
  },
  {
   "cell_type": "code",
   "execution_count": 5,
   "id": "e1b676b8",
   "metadata": {},
   "outputs": [
    {
     "ename": "SyntaxError",
     "evalue": "invalid character '–' (U+2013) (359962179.py, line 11)",
     "output_type": "error",
     "traceback": [
      "\u001b[1;36m  Cell \u001b[1;32mIn[5], line 11\u001b[1;36m\u001b[0m\n\u001b[1;33m    print(1 + 2 * float(3) / 4 – 5)\u001b[0m\n\u001b[1;37m                               ^\u001b[0m\n\u001b[1;31mSyntaxError\u001b[0m\u001b[1;31m:\u001b[0m invalid character '–' (U+2013)\n"
     ]
    }
   ],
   "source": [
    ">>> print(float(99) / 100)\n",
    "0.99\n",
    ">>> i = 42\n",
    ">>> type(i)\n",
    "<class 'int'>\n",
    ">>> f = float(i)\n",
    ">>> print(f)\n",
    "42.0\n",
    ">>> type(f)\n",
    "<class 'float'>\n",
    ">>> print(1 + 2 * float(3) / 4 – 5)\n",
    "-2.5\n",
    ">>>"
   ]
  },
  {
   "cell_type": "code",
   "execution_count": 6,
   "id": "96bec576",
   "metadata": {},
   "outputs": [
    {
     "ename": "SyntaxError",
     "evalue": "invalid syntax (3302575331.py, line 3)",
     "output_type": "error",
     "traceback": [
      "\u001b[1;36m  Cell \u001b[1;32mIn[6], line 3\u001b[1;36m\u001b[0m\n\u001b[1;33m    <class 'str'>\u001b[0m\n\u001b[1;37m    ^\u001b[0m\n\u001b[1;31mSyntaxError\u001b[0m\u001b[1;31m:\u001b[0m invalid syntax\n"
     ]
    }
   ],
   "source": [
    ">>> sval = '123'\n",
    ">>> type(sval)\n",
    "<class 'str'>\n",
    ">>> print(sval + 1)"
   ]
  },
  {
   "cell_type": "code",
   "execution_count": 7,
   "id": "519fe2f7",
   "metadata": {},
   "outputs": [
    {
     "ename": "IndentationError",
     "evalue": "expected an indented block after function definition on line 3 (2454096968.py, line 4)",
     "output_type": "error",
     "traceback": [
      "\u001b[1;36m  Cell \u001b[1;32mIn[7], line 4\u001b[1;36m\u001b[0m\n\u001b[1;33m    print(\"I'm a lumberjack, and I'm okay.\")\u001b[0m\n\u001b[1;37m    ^\u001b[0m\n\u001b[1;31mIndentationError\u001b[0m\u001b[1;31m:\u001b[0m expected an indented block after function definition on line 3\n"
     ]
    }
   ],
   "source": [
    "x = 5\n",
    "print('Hello')\n",
    "def print_lyrics():\n",
    "print(\"I'm a lumberjack, and I'm okay.\")\n",
    "print('I sleep all night and I work all day.')\n",
    "print('Yo')\n",
    "x = x + 2\n",
    "print(x)"
   ]
  },
  {
   "cell_type": "code",
   "execution_count": 8,
   "id": "ba7d45e3",
   "metadata": {},
   "outputs": [
    {
     "ename": "IndentationError",
     "evalue": "expected an indented block after function definition on line 3 (1870313928.py, line 4)",
     "output_type": "error",
     "traceback": [
      "\u001b[1;36m  Cell \u001b[1;32mIn[8], line 4\u001b[1;36m\u001b[0m\n\u001b[1;33m    print(\"I'm a lumberjack, and I'm okay.\")\u001b[0m\n\u001b[1;37m    ^\u001b[0m\n\u001b[1;31mIndentationError\u001b[0m\u001b[1;31m:\u001b[0m expected an indented block after function definition on line 3\n"
     ]
    }
   ],
   "source": [
    "x = 5\n",
    "print('Hello')\n",
    "def print_lyrics(): \n",
    "print(\"I'm a lumberjack, and I'm okay.\")\n",
    "print('I sleep all night and I work all day.')\n",
    "print('Yo')\n",
    "print_lyrics()\n",
    "x = x + 2\n",
    "print(x)"
   ]
  },
  {
   "cell_type": "code",
   "execution_count": 9,
   "id": "df360ded",
   "metadata": {},
   "outputs": [
    {
     "ename": "IndentationError",
     "evalue": "expected an indented block after function definition on line 1 (3793565077.py, line 2)",
     "output_type": "error",
     "traceback": [
      "\u001b[1;36m  Cell \u001b[1;32mIn[9], line 2\u001b[1;36m\u001b[0m\n\u001b[1;33m    if lang == 'es':\u001b[0m\n\u001b[1;37m    ^\u001b[0m\n\u001b[1;31mIndentationError\u001b[0m\u001b[1;31m:\u001b[0m expected an indented block after function definition on line 1\n"
     ]
    }
   ],
   "source": [
    ">>> def greet(lang):\n",
    "... if lang == 'es':\n",
    "... print('Hola')\n",
    "... elif lang == 'fr':\n",
    "... print('Bonjour')\n",
    "... else:\n",
    "... print('Hello')\n",
    "... \n",
    ">>> greet('en')\n",
    "Hello\n",
    ">>> greet('es')\n",
    "Hola\n",
    ">>> greet('fr')\n",
    "Bonjour\n",
    ">>>"
   ]
  },
  {
   "cell_type": "code",
   "execution_count": 10,
   "id": "60345804",
   "metadata": {},
   "outputs": [
    {
     "ename": "IndentationError",
     "evalue": "expected an indented block after function definition on line 1 (1198201427.py, line 2)",
     "output_type": "error",
     "traceback": [
      "\u001b[1;36m  Cell \u001b[1;32mIn[10], line 2\u001b[1;36m\u001b[0m\n\u001b[1;33m    if lang == 'es':\u001b[0m\n\u001b[1;37m    ^\u001b[0m\n\u001b[1;31mIndentationError\u001b[0m\u001b[1;31m:\u001b[0m expected an indented block after function definition on line 1\n"
     ]
    }
   ],
   "source": [
    ">>> def greet(lang):\n",
    "... if lang == 'es':\n",
    "... return 'Hola'\n",
    "... elif lang == 'fr':\n",
    "... return 'Bonjour'\n",
    "... else:\n",
    "... return 'Hello'\n",
    "... \n",
    ">>> print(greet('en'),'Glenn')\n",
    "Hello Glenn\n",
    ">>> print(greet('es'),'Sally')\n",
    "Hola Sally\n",
    ">>> print(greet('fr'),'Michael')\n",
    "Bonjour Michael\n",
    ">>>"
   ]
  },
  {
   "cell_type": "code",
   "execution_count": 11,
   "id": "b9299c4f",
   "metadata": {},
   "outputs": [
    {
     "name": "stdout",
     "output_type": "stream",
     "text": [
      "w\n"
     ]
    }
   ],
   "source": [
    ">>> big = max('Hello world')\n",
    ">>> print(big)"
   ]
  },
  {
   "cell_type": "code",
   "execution_count": 12,
   "id": "79d5ae61",
   "metadata": {},
   "outputs": [
    {
     "ename": "IndentationError",
     "evalue": "expected an indented block after function definition on line 1 (4161735207.py, line 2)",
     "output_type": "error",
     "traceback": [
      "\u001b[1;36m  Cell \u001b[1;32mIn[12], line 2\u001b[1;36m\u001b[0m\n\u001b[1;33m    added = a + b\u001b[0m\n\u001b[1;37m    ^\u001b[0m\n\u001b[1;31mIndentationError\u001b[0m\u001b[1;31m:\u001b[0m expected an indented block after function definition on line 1\n"
     ]
    }
   ],
   "source": [
    "def addtwo(a, b):\n",
    "added = a + b\n",
    "return added\n",
    "x = addtwo(3, 5)\n",
    "print(x)"
   ]
  },
  {
   "cell_type": "code",
   "execution_count": 13,
   "id": "e1cd6eaf",
   "metadata": {},
   "outputs": [
    {
     "name": "stdout",
     "output_type": "stream",
     "text": [
      "Enter hours worked: 45\n",
      "Enter hourly rate: 10\n",
      "Total pay: $475.0\n"
     ]
    }
   ],
   "source": [
    "def computepay(hours, rate):\n",
    "    if hours <= 40:\n",
    "        total_pay = hours * rate\n",
    "    else:\n",
    "        regular_hours = 40\n",
    "        overtime_hours = hours - 40\n",
    "        regular_pay = regular_hours * rate\n",
    "        overtime_pay = overtime_hours * (rate * 1.5)\n",
    "        total_pay = regular_pay + overtime_pay\n",
    "    return total_pay\n",
    "\n",
    "# Example usage:\n",
    "hours_worked = float(input(\"Enter hours worked: \"))\n",
    "hourly_rate = float(input(\"Enter hourly rate: \"))\n",
    "\n",
    "total_payment = computepay(hours_worked, hourly_rate)\n",
    "print(\"Total pay: $\" + str(total_payment))\n"
   ]
  },
  {
   "cell_type": "code",
   "execution_count": null,
   "id": "70ee8cce",
   "metadata": {},
   "outputs": [],
   "source": []
  }
 ],
 "metadata": {
  "kernelspec": {
   "display_name": "Python 3 (ipykernel)",
   "language": "python",
   "name": "python3"
  },
  "language_info": {
   "codemirror_mode": {
    "name": "ipython",
    "version": 3
   },
   "file_extension": ".py",
   "mimetype": "text/x-python",
   "name": "python",
   "nbconvert_exporter": "python",
   "pygments_lexer": "ipython3",
   "version": "3.11.4"
  }
 },
 "nbformat": 4,
 "nbformat_minor": 5
}
